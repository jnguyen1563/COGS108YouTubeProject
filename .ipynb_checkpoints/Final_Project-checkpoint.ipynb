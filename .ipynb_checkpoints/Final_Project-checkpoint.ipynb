{
 "cells": [
  {
   "cell_type": "markdown",
   "metadata": {
    "colab_type": "text",
    "id": "view-in-github"
   },
   "source": [
    "<a href=\"https://colab.research.google.com/github/dtn058/COGS108YouTubeProject/blob/master/Final_Project.ipynb\" target=\"_parent\"><img src=\"https://colab.research.google.com/assets/colab-badge.svg\" alt=\"Open In Colab\"/></a>"
   ]
  },
  {
   "cell_type": "markdown",
   "metadata": {
    "colab_type": "text",
    "id": "2WdpPLpIa_4X"
   },
   "source": [
    "# COGS 108 - Final Project"
   ]
  },
  {
   "cell_type": "markdown",
   "metadata": {
    "colab_type": "text",
    "id": "pjdzQ0xOfMX1"
   },
   "source": [
    "## Group Members and Contributions\n",
    "Dat Nguyen - \n",
    "\n",
    "Tianheng Ma - \n",
    "\n",
    "Justin Nguyen - \n",
    "\n",
    "Kasidech Tantipanichaphan -\n",
    "\n",
    "Samuel Lin -"
   ]
  },
  {
   "cell_type": "markdown",
   "metadata": {
    "colab_type": "text",
    "id": "WpYekmp-uLTi"
   },
   "source": [
    "# Names\n",
    "* Dat Nguyen\n",
    "\n",
    "\n",
    "\n",
    "\n",
    "\n",
    "\n"
   ]
  },
  {
   "cell_type": "markdown",
   "metadata": {
    "colab_type": "text",
    "id": "MTIIAnODuSSF"
   },
   "source": [
    "# Group Members IDs\n",
    "* A12763835 - Dat\n",
    "\n"
   ]
  },
  {
   "cell_type": "markdown",
   "metadata": {
    "colab_type": "text",
    "id": "tIfGncZKboNb"
   },
   "source": [
    "#Overview\n",
    "YouTube - What can a channel do to further increase their viewer, subscriber, and follow count? As such, we had questions like : \n",
    "* When publishing a video, what type of title is the best, and when should it be posted to ensure maximized number of views and increase of subscriber counter?\n",
    "* What forms of social media should the video be shared on in order to further increase viewer, subscriber, and follow count?\n",
    "* What length should videos be, in order to maximize ad revenue, viewer counts, likes, and subscribers, alongside promoting channel growth and generating profit?\n",
    "\n",
    "But this wasn’t as low-level as we’d like so in order to be more specific in our questions, we decided to narrow down on YouTube videos categorically. When sifting through the datasets, we found that many of these categories had many observations, though some were lacking in observations and interest. The category we chose, How-to and Style was enticing because it concerned itself with clickbait, creativity, and the creator’s skill.\n"
   ]
  },
  {
   "cell_type": "markdown",
   "metadata": {
    "colab_type": "text",
    "id": "-K2V4LxFgNAx"
   },
   "source": [
    "# Research Question\n",
    "\n",
    "- What combination of tags, clickbait titles, and upload dates should How-to and Style content creators employ to maximize popularity (likes, viewer counts, comments)?"
   ]
  },
  {
   "cell_type": "markdown",
   "metadata": {
    "colab_type": "text",
    "id": "h5V_ZuuJugJ4"
   },
   "source": [
    "#Background and Prior Work\n",
    "* Where did we find the dataset\n",
    " * We found the dataset off of Kaggle, we were perusing through their already published datasets.\n",
    "* Why do we choose to use YouTube datasets\n",
    " * We chose to use YouTube datasets because everyone today uses YouTube. For those that want to delve into the world of content creation, specifically into How-to and Style content, making great content that balance revenue and growth would be of paramount priority. \n",
    " * There’s a lot of data to use.\n",
    "* Why did we choose to use How To & Style category \n",
    " * There were many factors that we put into selecting this category. As we were sifting through the many categories with many observations in our dataset(1000+), we found that a lot of them were just uninteresting (News and Politics) or required a certain amount of prestige (Entertainment, in the case of it being filled with movie trailers). Therefore, we narrowed it down into How To & Style because it revolved around the creativity of the content creator (what kind of nifty tools they could make out of household products, etc). As such, this category would require certain levels of creativity and skill to thrive, but will clickbait offset this?\n",
    " \n",
    "##References (include links):\n",
    "1) https://www.kaggle.com/donyoe/exploring-youtube-trending-statistics-eda/report\n",
    " * Observed a high correlation between views and likes\n",
    " * Made word clouds of titles and tags of youtube videos. Found that titles and tags related to “music”, “new”, “iphone”, and “episode” showed up consistently in popular videos\n",
    " * Includes visualizations to depict trends in: views vs likes, likes vs comments, analysis of sentimentality in video descriptions. Notices positive correlations between views, likes, and comments. Sentimentality in descriptions tends to be positive in majority\n",
    " \n",
    "2) https://towardsdatascience.com/strategies-to-be-a-successful-youtuber-extensive-youtube-exploratory-analysis-part-2-2-6862cd4f40be\n",
    " * Observed how to be a successful youtuber. Found out that making models per topic would be better. \n"
   ]
  },
  {
   "cell_type": "markdown",
   "metadata": {
    "colab_type": "text",
    "id": "PEqfuhk-vNKG"
   },
   "source": [
    "#Hypothesis\n",
    "* Hypothesis: Titles that include exclamation marks, numbers, capital letters, and tags (that are related to beauty and food) will induce more interaction. Additionally, popular videos are more likely to be evening uploads.\n"
   ]
  },
  {
   "cell_type": "markdown",
   "metadata": {
    "colab_type": "text",
    "id": "h5X3sV-tvRZs"
   },
   "source": [
    "#Dataset(s)\n",
    "Fill in your dataset information here\n",
    "(Copy this information for each dataset)\n",
    " * Dataset Name:\n",
    " * Link to the dataset:\n",
    " * Number of observations:\n",
    " * 1-2 sentences describing each dataset.\n",
    " \n",
    "If you plan to use multiple datasets, add 1-2 sentences about how you plan to combine these datasets.\n",
    "\n",
    "* Dataset Name: Trending Youtube Video Statistics\n",
    "* Link to the dataset: https://www.kaggle.com/datasnaek/youtube-new/version/114\n",
    "* Number of observations: 4,000 (specific to the How-to & Style category)\n"
   ]
  }
 ],
 "metadata": {
  "colab": {
   "include_colab_link": true,
   "name": "Final Project",
   "provenance": [],
   "version": "0.3.2"
  },
  "kernelspec": {
   "display_name": "Python 3",
   "language": "python",
   "name": "python3"
  },
  "language_info": {
   "codemirror_mode": {
    "name": "ipython",
    "version": 3
   },
   "file_extension": ".py",
   "mimetype": "text/x-python",
   "name": "python",
   "nbconvert_exporter": "python",
   "pygments_lexer": "ipython3",
   "version": "3.7.0"
  }
 },
 "nbformat": 4,
 "nbformat_minor": 1
}
